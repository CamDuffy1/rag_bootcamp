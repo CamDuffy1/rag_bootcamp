{
 "cells": [
  {
   "cell_type": "markdown",
   "id": "proprietary-ceramic",
   "metadata": {},
   "source": [
    "# Section Extraction at Scale (Small)"
   ]
  },
  {
   "cell_type": "markdown",
   "id": "fresh-glance",
   "metadata": {},
   "source": [
    "This notebook builds off of the *Section Extraction on a Single Sample Document* notebook to implement section extraction at scale on a small number (3) of sample documents."
   ]
  },
  {
   "cell_type": "code",
   "execution_count": null,
   "id": "rising-order",
   "metadata": {},
   "outputs": [],
   "source": []
  },
  {
   "cell_type": "code",
   "execution_count": null,
   "id": "induced-arbor",
   "metadata": {},
   "outputs": [],
   "source": []
  },
  {
   "cell_type": "code",
   "execution_count": null,
   "id": "liberal-conjunction",
   "metadata": {},
   "outputs": [],
   "source": []
  },
  {
   "cell_type": "code",
   "execution_count": null,
   "id": "proper-universal",
   "metadata": {},
   "outputs": [],
   "source": []
  },
  {
   "cell_type": "code",
   "execution_count": null,
   "id": "subsequent-vacuum",
   "metadata": {},
   "outputs": [],
   "source": []
  }
 ],
 "metadata": {
  "kernelspec": {
   "display_name": "Python 3",
   "language": "python",
   "name": "python3"
  },
  "language_info": {
   "codemirror_mode": {
    "name": "ipython",
    "version": 3
   },
   "file_extension": ".py",
   "mimetype": "text/x-python",
   "name": "python",
   "nbconvert_exporter": "python",
   "pygments_lexer": "ipython3",
   "version": "3.7.10"
  }
 },
 "nbformat": 4,
 "nbformat_minor": 5
}
