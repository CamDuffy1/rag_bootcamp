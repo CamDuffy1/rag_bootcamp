{
 "cells": [
  {
   "cell_type": "markdown",
   "id": "proprietary-ceramic",
   "metadata": {},
   "source": [
    "# Section Extraction at Scale (Small)"
   ]
  },
  {
   "cell_type": "markdown",
   "id": "fresh-glance",
   "metadata": {},
   "source": [
    "This notebook builds off of the *Section Extraction on a Single Sample Document* notebook to implement section extraction at scale on a small number (3) of sample documents."
   ]
  },
  {
   "cell_type": "code",
   "execution_count": 1,
   "id": "rising-order",
   "metadata": {},
   "outputs": [],
   "source": [
    "s1_url_dict = {\n",
    "    'reddit': 'https://www.sec.gov/Archives/edgar/data/1713445/000162828024006294/reddits-1q423.htm',\n",
    "    'facebook': 'https://www.sec.gov/Archives/edgar/data/1326801/000119312512034517/d287954ds1.htm',\n",
    "    'turo': 'https://www.sec.gov/Archives/edgar/data/1514587/000119312522005696/d145731ds1.htm',\n",
    "}"
   ]
  },
  {
   "cell_type": "code",
   "execution_count": 9,
   "id": "induced-arbor",
   "metadata": {},
   "outputs": [],
   "source": [
    "import pdfkit\n",
    "import os\n",
    "\n",
    "current_path = os.getcwd()\n",
    "output_dir = 'webpage_to_pdf'\n",
    "output_dir_path = os.path.join(current_path, output_dir)\n",
    "\n",
    "os.makedirs(output_dir_path) if not os.path.exists(output_dir_path) else None\n",
    "\n",
    "for key, url in s1_url_dict.items():\n",
    "    file_name = f\"{key}.pdf\"\n",
    "    output_path = os.path.join(output_dir_path, file_name)\n",
    "\n",
    "    pdfkit.from_url(url, output_path) if not os.path.exists(output_path) else print(f'File already exists at: {output_path}')\n"
   ]
  },
  {
   "cell_type": "code",
   "execution_count": null,
   "id": "liberal-conjunction",
   "metadata": {},
   "outputs": [],
   "source": []
  },
  {
   "cell_type": "code",
   "execution_count": null,
   "id": "proper-universal",
   "metadata": {},
   "outputs": [],
   "source": []
  },
  {
   "cell_type": "code",
   "execution_count": null,
   "id": "subsequent-vacuum",
   "metadata": {},
   "outputs": [],
   "source": []
  }
 ],
 "metadata": {
  "kernelspec": {
   "display_name": "Python 3",
   "language": "python",
   "name": "python3"
  },
  "language_info": {
   "codemirror_mode": {
    "name": "ipython",
    "version": 3
   },
   "file_extension": ".py",
   "mimetype": "text/x-python",
   "name": "python",
   "nbconvert_exporter": "python",
   "pygments_lexer": "ipython3",
   "version": "3.11.3"
  }
 },
 "nbformat": 4,
 "nbformat_minor": 5
}
