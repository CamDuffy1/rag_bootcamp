{
 "cells": [
  {
   "cell_type": "markdown",
   "id": "3d86f6cd",
   "metadata": {},
   "source": [
    "# Section Extraction on a Single Sample Document"
   ]
  },
  {
   "cell_type": "markdown",
   "id": "4168e6b6",
   "metadata": {},
   "source": [
    "This notebook builds off of the *Cohere Document Search with LlamaIndex* notebook (<code>document_search_cohere_llamaindex.ipynb</code>) to implement section extraction on a single sample document.\n",
    "\n",
    "**High-level workflow:**\n",
    "1. Use RAG to retrieve the document's Table Of Contents and extract a list of the document's sections.\n",
    "2. Use the <code>PyMuPDF</code> library to extract the body of a section by providing its title & the title of the section after it.\n",
    "3. Chunk the section body into paragraphs, create embeddings.\n",
    "4. Perform RAG (e.g, summarization) using the section body embedings.\n",
    "\n",
    "**Requirements:**\n",
    "- A Cohere API key stored in plain text in your home in directory in the `~/.cohere.key` file.\n",
    "- Upload a pdf file into the `S1_PDFs` subfolder under this notebook, and provide the path to the document in the **source_doc_path** variable."
   ]
  },
  {
   "cell_type": "markdown",
   "id": "impossible-cache",
   "metadata": {},
   "source": [
    "## Install Dependencies"
   ]
  },
  {
   "cell_type": "code",
   "execution_count": 1,
   "id": "ultimate-argument",
   "metadata": {
    "scrolled": true
   },
   "outputs": [
    {
     "name": "stdout",
     "output_type": "stream",
     "text": [
      "Note: you may need to restart the kernel to use updated packages.\n"
     ]
    }
   ],
   "source": [
    "%pip install --quiet pymupdf"
   ]
  },
  {
   "cell_type": "markdown",
   "id": "cleared-detection",
   "metadata": {},
   "source": [
    "Fresh installation of llama-index-core + integration packages -- New version of LlamaIndex introcudes breaking changes from the version on Vector Cluster."
   ]
  },
  {
   "cell_type": "code",
   "execution_count": 2,
   "id": "mechanical-arkansas",
   "metadata": {},
   "outputs": [
    {
     "name": "stdout",
     "output_type": "stream",
     "text": [
      "Note: you may need to restart the kernel to use updated packages.\n",
      "Note: you may need to restart the kernel to use updated packages.\n"
     ]
    }
   ],
   "source": [
    "%pip uninstall --quiet llama-index llama-index-core llama-index-llms-cohere llama-index-llms-litellm llama-index-readers-file llama-index-embeddings-cohere llama-index-postprocessor-cohere-rerank -y\n",
    "%pip install --quiet llama-index llama-index-core llama-index-llms-cohere llama-index-llms-litellm llama-index-readers-file llama-index-embeddings-cohere llama-index-postprocessor-cohere-rerank"
   ]
  },
  {
   "cell_type": "markdown",
   "id": "annoying-karen",
   "metadata": {},
   "source": [
    "## Preprocessing"
   ]
  },
  {
   "cell_type": "code",
   "execution_count": 3,
   "id": "educational-brooks",
   "metadata": {},
   "outputs": [],
   "source": [
    "# load source document\n",
    "import os\n",
    "import fitz # imports the pymupdf library\n",
    "\n",
    "source_doc_path = './S1_PDFs/Facebook S-1.pdf'\n",
    "source_doc = fitz.open(source_doc_path)"
   ]
  },
  {
   "cell_type": "code",
   "execution_count": 4,
   "id": "acquired-genetics",
   "metadata": {},
   "outputs": [],
   "source": [
    "# Trunctate it to the first 10 pages -- This greatly improves speed & accuracy of the model retrieving the table of contents\n",
    "\n",
    "truncated_dir = './S1_PDFs/Truncated'                                        # dir to save truncated files to\n",
    "os.makedirs(truncated_dir) if not os.path.exists(truncated_dir) else None    # create dir if not exists\n",
    "\n",
    "truncated_doc = fitz.open()\n",
    "truncated_doc.insert_pdf(source_doc, from_page=0, to_page=9)"
   ]
  },
  {
   "cell_type": "code",
   "execution_count": 5,
   "id": "governmental-aurora",
   "metadata": {},
   "outputs": [
    {
     "name": "stdout",
     "output_type": "stream",
     "text": [
      "198 pages - Original PDF doc\n",
      "10 pages - Truncated PDF doc\n",
      "Saved truncated doc at: ./S1_PDFs/Truncated/Facebook S-1 - Truncated - TOC.pdf\n"
     ]
    }
   ],
   "source": [
    "filename = os.path.basename(source_doc_path)\n",
    "filename, ext = os.path.splitext(filename)\n",
    "\n",
    "truncated_filename = f\"{filename} - Truncated - TOC{ext}\"\n",
    "truncated_out_path = os.path.join(truncated_dir, truncated_filename)  # path to save the truncated file\n",
    "\n",
    "truncated_doc.save(truncated_out_path)\n",
    "\n",
    "print(f\"{len(source_doc)} pages - Original PDF doc\")\n",
    "print(f\"{len(truncated_doc)} pages - Truncated PDF doc\")\n",
    "print(f\"Saved truncated doc at: {truncated_out_path}\")"
   ]
  },
  {
   "cell_type": "markdown",
   "id": "animal-prison",
   "metadata": {},
   "source": [
    "### Extract the Table of Contents from Truncated Doc using Cohere Command-R Model"
   ]
  },
  {
   "cell_type": "code",
   "execution_count": 6,
   "id": "better-process",
   "metadata": {},
   "outputs": [],
   "source": [
    "# Load Cohere API Key\n",
    "import os\n",
    "from pathlib import Path\n",
    "try:\n",
    "    os.environ[\"COHERE_API_KEY\"] = open(Path.home() / \".cohere.key\", \"r\").read().strip()\n",
    "    os.environ[\"CO_API_KEY\"] = open(Path.home() / \".cohere.key\", \"r\").read().strip()\n",
    "except Exception:\n",
    "    print(f\"ERROR: You must have a Cohere API key available in your home directory at ~/.cohere.key\")"
   ]
  },
  {
   "cell_type": "code",
   "execution_count": 7,
   "id": "specific-particular",
   "metadata": {},
   "outputs": [],
   "source": [
    "# llama_index.llms.cohere does not support command-r model -- Use LiteLLM instead\n",
    "from llama_index.llms.litellm import LiteLLM\n",
    "llm = LiteLLM(\n",
    "    model=\"command-r\",\n",
    "    temperature=0\n",
    ")"
   ]
  },
  {
   "cell_type": "code",
   "execution_count": 8,
   "id": "southwest-inspection",
   "metadata": {},
   "outputs": [],
   "source": [
    "from llama_index.core import SimpleDirectoryReader\n",
    "reader = SimpleDirectoryReader(input_files=[truncated_out_path])\n",
    "documents = reader.load_data()  # get truncated Facebook S-1 document"
   ]
  },
  {
   "cell_type": "code",
   "execution_count": 9,
   "id": "together-marker",
   "metadata": {},
   "outputs": [],
   "source": [
    "from llama_index.embeddings.cohere import CohereEmbedding\n",
    "embed_model = CohereEmbedding(\n",
    "    model_name=\"embed-english-v3.0\",\n",
    "    input_type=\"search_query\"\n",
    ")"
   ]
  },
  {
   "cell_type": "code",
   "execution_count": 10,
   "id": "empty-investigator",
   "metadata": {},
   "outputs": [
    {
     "name": "stderr",
     "output_type": "stream",
     "text": [
      "/tmp/ipykernel_17045/182692247.py:2: DeprecationWarning: Call to deprecated class method from_defaults. (ServiceContext is deprecated, please use `llama_index.settings.Settings` instead.) -- Deprecated since version 0.10.0.\n",
      "  service_context = ServiceContext.from_defaults(\n"
     ]
    }
   ],
   "source": [
    "from llama_index.core import ServiceContext\n",
    "service_context = ServiceContext.from_defaults(\n",
    "    embed_model=embed_model,\n",
    "    llm=llm,\n",
    "    chunk_size=500\n",
    ")"
   ]
  },
  {
   "cell_type": "code",
   "execution_count": 11,
   "id": "respiratory-calendar",
   "metadata": {},
   "outputs": [
    {
     "data": {
      "application/vnd.jupyter.widget-view+json": {
       "model_id": "c27a00f4e7fc401fbe3a210a42e2f927",
       "version_major": 2,
       "version_minor": 0
      },
      "text/plain": [
       "Parsing nodes:   0%|          | 0/10 [00:00<?, ?it/s]"
      ]
     },
     "metadata": {},
     "output_type": "display_data"
    },
    {
     "data": {
      "application/vnd.jupyter.widget-view+json": {
       "model_id": "4e5cfc0a9db446e0bff98b7ff63d3742",
       "version_major": 2,
       "version_minor": 0
      },
      "text/plain": [
       "Generating embeddings:   0%|          | 0/20 [00:00<?, ?it/s]"
      ]
     },
     "metadata": {},
     "output_type": "display_data"
    }
   ],
   "source": [
    "from llama_index.core import VectorStoreIndex\n",
    "truncated_index = VectorStoreIndex.from_documents(documents, service_context=service_context, show_progress=True)"
   ]
  },
  {
   "cell_type": "code",
   "execution_count": 12,
   "id": "necessary-harvest",
   "metadata": {},
   "outputs": [],
   "source": [
    "from llama_index.postprocessor.cohere_rerank import CohereRerank\n",
    "cohere_rerank = CohereRerank()"
   ]
  },
  {
   "cell_type": "code",
   "execution_count": 13,
   "id": "polish-deposit",
   "metadata": {},
   "outputs": [],
   "source": [
    "query_engine = truncated_index.as_query_engine(\n",
    "    node_postprocessors=[cohere_rerank],\n",
    ")"
   ]
  },
  {
   "cell_type": "code",
   "execution_count": 14,
   "id": "identified-shannon",
   "metadata": {},
   "outputs": [],
   "source": [
    "response = query_engine.query(\n",
    "    \"\"\"\n",
    "    What are the sections that constitute the 'table of contents' of the document?\n",
    "    Create a Python list, where each element of the list is a section from the document's 'table of contents',\n",
    "    in the order they occur in within the table of contents.\n",
    "    \n",
    "    Your output should just be the Python list, nothing else.\n",
    "    \"\"\"\n",
    ")"
   ]
  },
  {
   "cell_type": "code",
   "execution_count": 15,
   "id": "together-married",
   "metadata": {},
   "outputs": [
    {
     "data": {
      "text/plain": [
       "\"['Prospectus Summary', 'Risk Factors', 'Special Note Regarding Forward-Looking Statements', 'Industry Data and User Metrics', 'Use of Proceeds', 'Dividend Policy', 'Capitalization', 'Dilution', 'Selected Consolidated Financial Data', 'Management’ s Discussion and Analysis of Financial Condition and Results of Operations', 'Letter from Mark Zuckerberg', 'Business', 'Management', 'Executive Compensation', 'Related Party Transactions', 'Principal and Selling Stockholders', 'Description of Capital Stock', 'Shares Eligible for Future Sale', 'Material U.S. Federal Tax Considerations for Non-U.S. Holders of Class A Common Stock', 'Underwriting', 'Legal Matters', 'Experts', 'Where You Can Find Additional Information', 'Index to Consolidated Financial Statements']\""
      ]
     },
     "execution_count": 15,
     "metadata": {},
     "output_type": "execute_result"
    }
   ],
   "source": [
    "response.response"
   ]
  },
  {
   "cell_type": "code",
   "execution_count": 16,
   "id": "lesser-mobile",
   "metadata": {},
   "outputs": [],
   "source": [
    "import ast    # Built-in Abstract Syntax Trees module - Can convert a string contining a list to a list object\n",
    "document_sections = ast.literal_eval(response.response)"
   ]
  },
  {
   "cell_type": "code",
   "execution_count": 17,
   "id": "frequent-coaching",
   "metadata": {},
   "outputs": [
    {
     "data": {
      "text/plain": [
       "['Prospectus Summary',\n",
       " 'Risk Factors',\n",
       " 'Special Note Regarding Forward-Looking Statements',\n",
       " 'Industry Data and User Metrics',\n",
       " 'Use of Proceeds',\n",
       " 'Dividend Policy',\n",
       " 'Capitalization',\n",
       " 'Dilution',\n",
       " 'Selected Consolidated Financial Data',\n",
       " 'Management’ s Discussion and Analysis of Financial Condition and Results of Operations',\n",
       " 'Letter from Mark Zuckerberg',\n",
       " 'Business',\n",
       " 'Management',\n",
       " 'Executive Compensation',\n",
       " 'Related Party Transactions',\n",
       " 'Principal and Selling Stockholders',\n",
       " 'Description of Capital Stock',\n",
       " 'Shares Eligible for Future Sale',\n",
       " 'Material U.S. Federal Tax Considerations for Non-U.S. Holders of Class A Common Stock',\n",
       " 'Underwriting',\n",
       " 'Legal Matters',\n",
       " 'Experts',\n",
       " 'Where You Can Find Additional Information',\n",
       " 'Index to Consolidated Financial Statements']"
      ]
     },
     "execution_count": 17,
     "metadata": {},
     "output_type": "execute_result"
    }
   ],
   "source": [
    "document_sections"
   ]
  },
  {
   "cell_type": "markdown",
   "id": "distant-italy",
   "metadata": {},
   "source": [
    "### Get the Section Body"
   ]
  },
  {
   "cell_type": "code",
   "execution_count": 18,
   "id": "accurate-highland",
   "metadata": {},
   "outputs": [
    {
     "name": "stdout",
     "output_type": "stream",
     "text": [
      "Target section:\tRisk Factors\n",
      "Section after:\tSpecial Note Regarding Forward-Looking Statements\n"
     ]
    }
   ],
   "source": [
    "from utils import get_item_after    # helper functions defined in utils.py\n",
    "\n",
    "target_section = 'Risk Factors'\n",
    "next_section = get_item_after(document_sections, target_section)\n",
    "\n",
    "print(f\"Target section:\\t{target_section}\\nSection after:\\t{next_section}\") if next_section != None else None"
   ]
  },
  {
   "cell_type": "code",
   "execution_count": 23,
   "id": "secret-conducting",
   "metadata": {},
   "outputs": [
    {
     "name": "stdout",
     "output_type": "stream",
     "text": [
      "101027 total words retrieved from document\n"
     ]
    }
   ],
   "source": [
    "# Get words from PDF doc so that they can be parsed by the PyMuPDF package\n",
    "# Set start_page=X to begin retrieving words at page x in the doc -- Higher start page -> Less words to retrieve & parse\n",
    "# Get words in lowercase format to help with searching for substrings\n",
    "\n",
    "from utils import get_words_from_PDF\n",
    "words = get_words_from_PDF(doc=source_doc, start_page=10, lowercase=False)\n",
    "\n",
    "print(f\"{len(lowercase_words)} total words retrieved from document\")"
   ]
  },
  {
   "cell_type": "code",
   "execution_count": 25,
   "id": "distinguished-setup",
   "metadata": {
    "scrolled": true
   },
   "outputs": [
    {
     "data": {
      "text/plain": [
       "['According',\n",
       " 'to',\n",
       " 'an',\n",
       " 'industry',\n",
       " 'source,',\n",
       " 'total',\n",
       " 'worldwide',\n",
       " 'advertising',\n",
       " 'spending',\n",
       " 'in',\n",
       " '2010',\n",
       " 'was',\n",
       " '$588',\n",
       " 'billion.',\n",
       " 'Our',\n",
       " 'addressable',\n",
       " 'market',\n",
       " 'opportunity',\n",
       " 'includes',\n",
       " 'portions',\n",
       " 'of',\n",
       " 'many',\n",
       " 'existing',\n",
       " 'advertising',\n",
       " 'markets,',\n",
       " 'including',\n",
       " 'the',\n",
       " 'traditional',\n",
       " 'offline',\n",
       " 'branded',\n",
       " 'advertising,',\n",
       " 'online',\n",
       " 'display',\n",
       " 'advertising,',\n",
       " 'online',\n",
       " 'performance-based',\n",
       " 'advertising,',\n",
       " 'and',\n",
       " 'mobile',\n",
       " 'advertising',\n",
       " 'markets.',\n",
       " 'Advertising',\n",
       " 'on',\n",
       " 'the',\n",
       " 'social',\n",
       " 'web']"
      ]
     },
     "execution_count": 25,
     "metadata": {},
     "output_type": "execute_result"
    }
   ],
   "source": [
    "# example of some of the retrieved words\n",
    "words[14:60]"
   ]
  },
  {
   "cell_type": "markdown",
   "id": "rising-conclusion",
   "metadata": {},
   "source": [
    "#### The search for substrings is case sensitive. This introduces challenges in defining the boundaries of the section to extract.\n",
    "\n",
    "For example:\n",
    "- Section titles may be formatted differently than the words in the table of contents.\n",
    "  - (e.g., Section title is all uppercase while Table of Contents is not -- 'RISK FACTORS' vs 'Risk Factors')\n",
    "  - This makes it difficult to maintain section extraction accuracy across documents at scale.\n",
    "- If all words in the document & substrings to search for are converted to lowercase format, strings with different formats can be matched.\n",
    "  - However, this increases the frequency that strings are matched incorrectly. i.e., The initial text extraction boundary is often detected before the section begins.\n",
    "      - (e.g., Text that mentions the name of an upcoming section -- 'See the Risk Factors section on page XX before purchasing shares')\n",
    "  - Results in inaccurate content extraction.\n",
    "- In the code below, the extraction boundaries have been converted to uppercase letters to match the format of section titles in the source document.\n",
    "  - This works for this specific document but is not robust to the formatting differences across documents at scale.\n",
    "\n",
    "**Proposed workaround:**\n",
    "- Use the table of contents to extract the page number of each section along with its title.\n",
    "- Use the page numbers as extraction boundaries rather than the strings of each section title.\n",
    "- Get the page number (e.g., from footnote) to create an index for each page.\n",
    "- Iterate over indexes based on page number boundaries. Extract the pages that include the target section.\n",
    "- Perform chunking & embedding on the pages directly."
   ]
  },
  {
   "cell_type": "code",
   "execution_count": 27,
   "id": "small-rebound",
   "metadata": {},
   "outputs": [
    {
     "name": "stdout",
     "output_type": "stream",
     "text": [
      "Section: Risk Factors\n",
      "Body: (14394 words)\n",
      "Investing in our Class A common stock involves a high degree of risk. You should consider carefully the risks and uncertainties described below, together with all of the other information in this prospectus, including the consolidated financial statements and the related notes included elsewhere in this prospectus, before deciding whether to invest in shares of our Class A common stock. The risks and uncertainties described below are not the only ones we face. Additional risks and uncertainties that we are unaware of, or that we currently believe are not material, may also become important factors that adversely affect our business. If any of the following risks actually occurs, our business, financial condition, results of operations, and future prospects could be materially and adversely affected. In that event, the market price of our Class A common stock could decline, and you could lose part or all of your investment. Risks Related to Our Business and Industry If we fail to retain existing users or add new users, or if our users decrease their level of engagement with Facebook, our revenue, financial results, and business may be significantly harmed. The size of our user base and our users’ level of engagement are critical to our success. We had 845 million monthly active users (MAUs) as of December 31, 2011. Our financial performance has been and will continue to be significantly determined by our success in adding, retaining, and engaging active users. We anticipate that our active user growth rate will decline over time as the size of our active user base increases, and as we achieve higher market penetration rates. To the extent our active user growth rate slows, our business performance will become increasingly dependent on our ability to increase levels of user engagement in current and new markets. If people do not perceive our products to be useful, reliable, and trustworthy, we may not be able to attract or retain users or otherwise maintain or increase the frequency and duration of their engagement. A number of other social networking companies that achieved early popularity have since seen their active user bases or levels of engagement decline, in some cases precipitously. There is no guarantee that we will not experience a similar erosion of our active user base or engagement levels. A decrease in user retention, growth, or engagement could render Facebook less attractive to developers and advertisers, which may have a material and adverse impact on our revenue, business, financial condition, and results of operations. Any number of factors could potentially negatively affect user retention, growth, and engagement, including if: • users increasingly engage with competing products; • we fail to introduce new and improved products or if we introduce new products or services that are not favorably received; • we are unable to successfully balance our efforts to provide a compelling user experience with the decisions we make with respect to the frequency, prominence, and size of ads and other commercial content that we display; • we are unable to continue to develop products for mobile devices that users find engaging, that work with a variety of mobile operating systems and networks, and that achieve a high level of market acceptance; • there are changes in user sentiment about the quality or usefulness of our products or concerns related to privacy and sharing, safety, security, or other factors; • we are unable to manage and prioritize information to ensure users are presented with content that is interesting, useful, and relevant to them; • there are adverse changes in our products that are mandated by legislation, regulatory authorities, or litigation, including settlements or consent decrees; • technical or other problems prevent us from delivering our products in a rapid and reliable manner or otherwise affect the user experience; 11 3/25/24, 1:56 PM Registration Statement on Form S-1 https://www.sec.gov/Archives/edgar/data/1326801/000119312512034517/d287954ds1.htm#toc287954_2 19/198 Table of Contents • we adopt policies or procedures related to areas such as sharing or user data that are perceived negatively by our users or the general public; • we fail to provide adequate customer service to users, developers, or advertisers; • we, our Platform developers, or other companies in our industry are the subject of adverse media reports or other negative publicity; or • our current or future products, such as the Facebook Platform, reduce user activity on Facebook by making it easier for our users to interact and share on third-party websites. If we are unable to maintain and increase our user base and user engagement, our revenue, financial results, and future growth potential may be adversely affected. We generate a substantial majority of our revenue from advertising. The loss of advertisers, or reduction in spending by advertisers with Facebook, could seriously harm our business. The substantial majority of our revenue is currently generated from third parties advertising on Facebook. In 2009, 2010, and 2011, advertising accounted for 98%, 95%, and 85%, respectively, of our revenue. As is common in the industry, our advertisers typically do not have long-term advertising commitments with us. Many of our advertisers spend only a relatively small portion of their overall advertising budget with us. In addition, advertisers may view some of our products, such as sponsored stories and ads with social context, as experimental and unproven. Advertisers will not continue to do business with us, or they will reduce the prices they are willing to pay to advertise with us, if we do not deliver ads and other commercial content in an effective manner, or if they do not believe that their investment in advertising with us will generate a competitive return relative to other alternatives. Our advertising revenue could be adversely affected by a number of other factors, including: • decreases in user engagement, including time spent on Facebook; • increased user access to and engagement with Facebook through our mobile products, where we do not currently directly generate meaningful revenue, particularly to the extent that mobile engagement is substituted for engagement with Facebook on personal computers where we monetize usage by displaying ads and other commercial content; • product changes or inventory management decisions we may make that reduce the size, frequency, or relative prominence of ads and other commercial content displayed on Facebook; • our inability to improve our analytics and measurement solutions that demonstrate the value of our ads and other commercial content; • decisions by advertisers to use our free products, such as Facebook Pages, instead of advertising on Facebook; • loss of advertising market share to our competitors; • adverse legal developments relating to advertising, including legislative and regulatory developments and developments in litigation; • adverse media reports or other negative publicity involving us, our Platform developers, or other companies in our industry; • our inability to create new products that sustain or increase the value of our ads and other commercial content; • the degree to which users opt out of social ads or otherwise limit the potential audience of commercial content; • changes in the way online advertising is priced; 12 3/25/24, 1:56 PM Registration Statement on Form S-1 https://www.sec.gov/Archives/edgar/data/1326801/000119312512034517/d287954ds1.htm#toc287954_2 20/198 Table of Contents • the impact of new technologies that could block or obscure the display of our ads and other commercial content; and • the impact of macroeconomic conditions and conditions in the advertising industry in general. The occurrence of any of these or other factors could result in a reduction in demand for our ads and other commercial content, which may reduce the prices we receive for our ads and other commercial content, or cause advertisers to stop advertising with us altogether, either of which would negatively affect our revenue and financial results. Growth in use of Facebook through our mobile products, where we do not currently display ads, as a substitute for use on personal computers may negatively affect our revenue and financial results. We had more than 425 million MAUs who used Facebook mobile products in December 2011. We anticipate that the rate of growth in mobile users will continue to exceed the growth rate of our overall MAUs for the foreseeable future, in part due to our focus on developing mobile products to encourage mobile usage of Facebook. Although the substantial majority of our mobile users also access and engage with Facebook on personal computers where we display advertising, our users could decide to increasingly access our products primarily through mobile devices. We do not currently directly generate any meaningful revenue from the use of Facebook mobile products, and our ability to do so successfully is unproven. Accordingly, if users continue to increasingly access Facebook mobile products as a substitute for access through personal computers, and if we are unable to successfully implement monetization strategies for our mobile users, our revenue and financial results may be negatively affected. Facebook user growth and engagement on mobile devices depend upon effective operation with mobile operating systems, networks, and standards that we do not control. There is no guarantee that popular mobile devices will continue to feature Facebook, or that mobile device users will continue to use Facebook rather than competing products. We are dependent on the interoperability of Facebook with popular mobile operating systems that we do not control, such as Android and iOS, and any changes in such systems that degrade our products’ functionality or give preferential treatment to competitive products could adversely affect Facebook usage on mobile devices. Additionally, in order to deliver high quality mobile products, it is important that our products work well with a range of mobile technologies, systems, networks, and standards that we do not control. We may not be successful in developing relationships with key participants in the mobile industry or in developing products that operate effectively with these technologies, systems, networks, or standards. In the event that it is more difficult for our users to access and use Facebook on their mobile devices, or if our users choose not to access or use Facebook on their mobile devices or use mobile products that do not offer access to Facebook, our user growth and user engagement could be harmed. We may not be successful in our efforts to grow and further monetize the Facebook Platform. We have made and are continuing to make major investments to enable developers to build applications (apps) and websites that integrate with the Facebook Platform. Existing and prospective Platform developers may not be successful in building apps or websites that create and maintain user engagement. Additionally, developers may choose to build on other platforms, including mobile platforms controlled by third parties, rather than building on the Facebook Platform. We are continuously seeking to balance the distribution objectives of our Platform developers with our desire to provide an optimal user experience, and we may not be successful in achieving a balance that continues to attract and retain Platform developers. From time to time, we have taken actions to reduce the volume of communications from apps to users on Facebook with the objective of enhancing the user experience, and such actions have reduced distribution from, user engagement with, and our monetization opportunities from, apps on Facebook. In some instances, these actions have adversely affected our relationships with Platform developers. If we are not successful in our efforts to grow our Platform or if we are unable to build and maintain good relations with Platform developers, our user growth and user engagement and our financial results may be adversely affected. 13 3/25/24, 1:56 PM Registration Statement on Form S-1 https://www.sec.gov/Archives/edgar/data/1326801/000119312512034517/d287954ds1.htm#toc287954_2 21/198 Table of Contents Additionally, we may not be successful in further monetizing the Facebook Platform. We currently monetize the Facebook Platform in several ways, including ads on pages generated by apps on Facebook, direct advertising on Facebook purchased by Platform developers to drive traffic to their apps and websites, and fees from our Platform developers’ use of our Payments infrastructure to sell virtual and digital goods to users. Apps built by developers of social games, particularly Zynga, are currently responsible for substantially all of our revenue derived from Payments. If the Platform apps that currently generate revenue fail to grow or maintain their users and engagement, if Platform developers do not continue to introduce new apps that attract users and create engagement, if Platform developers reduce their advertising on Facebook, if we fail to maintain good relationships with Platform developers or attract new developers, or if Platform apps outside of social games do not gain popularity and generate significant revenue, our financial performance and ability to grow revenue could be adversely affected. Our business is highly competitive. Competition presents an ongoing threat to the success of our business. We face significant competition in almost every aspect of our business, including from companies such as Google, Microsoft, and Twitter, which offer a variety of Internet products, services, content, and online advertising offerings, as well as from mobile companies and smaller Internet companies that offer products and services that may compete with specific Facebook features. We also face competition from traditional and online media businesses for advertising budgets. We compete broadly with Google’s social networking offerings, including Google+, and also with other, largely regional, social networks that have strong positions in particular countries, including Cyworld in Korea, Mixi in Japan, Orkut (owned by Google) in Brazil and India, and vKontakte in Russia. We would also face competition from companies in China such as Renren, Sina, and Tencent in the event that we are able to access the market in China in the future. As we introduce new products, as our existing products evolve, or as other companies introduce new products and services, we may become subject to additional competition. Some of our current and potential competitors have significantly greater resources and better competitive positions in certain markets than we do. These factors may allow our competitors to respond more effectively than us to new or emerging technologies and changes in market requirements. Our competitors may develop products, features, or services that are similar to ours or that achieve greater market acceptance, may undertake more far-reaching and successful product development efforts or marketing campaigns, or may adopt more aggressive pricing policies. In addition, Platform partners may use information shared by our users through the Facebook Platform in order to develop products or features that compete with us. Certain competitors, including Google, could use strong or dominant positions in one or more markets to gain competitive advantage against us in areas where we operate including: by integrating competing social networking platforms or features into products they control such as search engines, web browsers, or mobile device operating systems; by making acquisitions; or by making access to Facebook more difficult. As a result, our competitors may acquire and engage users at the expense of the growth or engagement of our user base, which may negatively affect our business and financial results. We believe that our ability to compete effectively depends upon many factors both within and beyond our control, including: • the usefulness, ease of use, performance, and reliability of our products compared to our competitors; • the size and composition of our user base; • the engagement of our users with our products; • the timing and market acceptance of products, including developments and enhancements to our or our competitors’ products; • our ability to monetize our products, including our ability to successfully monetize mobile usage; • the frequency, size, and relative prominence of the ads and other commercial content displayed by us or our competitors; 14 3/25/24, 1:56 PM Registration Statement on Form S-1 https://www.sec.gov/Archives/edgar/data/1326801/000119312512034517/d287954ds1.htm#toc287954_2 22/198 Table of Contents • customer service and support efforts; • marketing and selling efforts; • our ability to establish and maintain developers’ interest in building on the Facebook Platform; • changes mandated by legislation, regulatory authorities, or litigation, including settlements and consent decrees, some of which may have a disproportionate effect on us; • acquisitions or consolidation within our industry, which may result in more formidable competitors; • our ability to attract, retain, and motivate talented employees, particularly software engineers; • our ability to cost-effectively manage and grow our operations; and • our reputation and brand strength relative to our competitors. If we are not able to effectively compete, our user base and level of user engagement may decrease, which could make us less attractive to developers and advertisers and materially and adversely affect our revenue and results of operations. Action by governments to restrict access to Facebook in their countries could substantially harm our business and financial results. It is possible that governments of one or more countries may seek to censor content available on Facebook in their country, restrict access to Facebook from their country entirely, or impose other restrictions that may affect the accessibility of Facebook in their country for an extended period of time or indefinitely. For example, access to Facebook has been or is currently restricted in whole or in part in China, Iran, North Korea, and Syria. In addition, governments in other countries may seek to restrict access to Facebook if they consider us to be in violation of their laws. In the event that access to Facebook is restricted, in whole or in part, in one or more countries or our competitors are able to successfully penetrate geographic markets that we cannot access, our ability to retain or increase our user base and user engagement may be adversely affected, we may not be able to maintain or grow our revenue as anticipated, and our financial results could be adversely affected. Our efforts to expand the Facebook Platform may result in users increasingly engaging with our Platform developers’ Facebook- integrated websites instead of engaging on Facebook, which may negatively affect our advertising revenue and harm our business. We actively support Platform developers’ efforts to develop products that integrate with Facebook on the developers’ websites. Our Platform developers may choose to prioritize building or supporting Facebook-integrated websites as opposed to building or supporting apps that run on the Facebook website. When users visit a Platform partner’s Facebook-integrated website, we do not deliver advertisements, whereas we would have displayed advertisements to these users if their activity had taken place on the Facebook website. If Facebook-integrated websites draw users away from our website, it may reduce or slow the growth of our user activity that generates advertising opportunities, which could negatively affect our advertising revenue. Although we believe that there are significant long-term benefits to Facebook resulting from increased engagement on Facebook-integrated websites, these benefits may not offset the possible loss of advertising revenue, in which case our business could be harmed. Our new products and changes to existing products could fail to attract or retain users or generate revenue. Our ability to retain, increase, and engage our user base and to increase our revenue will depend heavily on our ability to create successful new products, both independently and in conjunction with Platform developers or other third parties. We may introduce significant changes to our existing products or develop and introduce new and unproven products, including using technologies with which we have little or no prior development or operating experience. If new or enhanced products fail to engage users, developers, or advertisers, we may fail to 15 3/25/24, 1:56 PM Registration Statement on Form S-1 https://www.sec.gov/Archives/edgar/data/1326801/000119312512034517/d287954ds1.htm#toc287954_2 23/198 Table of Contents attract or retain users or to generate sufficient revenue, operating margin, or other value to justify our investments, and our business may be adversely affected. In the future, we may invest in new products and initiatives to generate revenue, but there is no guarantee these approaches will be successful. If we are not successful with new approaches to monetization, we may not be able to maintain or grow our revenue as anticipated or recover any associated development costs, and our financial results could be adversely affected. Our culture emphasizes rapid innovation and prioritizes user engagement over short-term financial results. We have a culture that encourages employees to quickly develop and launch new and innovative products. As our business grows and becomes more complex, our cultural emphasis on moving quickly may result in unintended outcomes or decisions that are poorly received by users, developers, or advertisers. Our culture also prioritizes our user engagement over short-term financial results, and we frequently make product decisions that may reduce our short-term revenue or profitability if we believe that the decisions are consistent with our mission and benefit the aggregate user experience and will thereby improve our financial performance over the long term. These decisions may not produce the long-term benefits that we expect, in which case our user growth and engagement, our relationships with developers and advertisers, and our business and results of operations could be harmed. If we are not able to maintain and enhance our brand, or if events occur that damage our reputation and brand, our ability to expand our base of users, developers, and advertisers may be impaired, and our business and financial results may be harmed. We believe that the Facebook brand has significantly contributed to the success of our business. We also believe that maintaining and enhancing our brand is critical to expanding our base of users, developers, and advertisers. Many of our new users are referred by existing users, and therefore we strive to ensure that our users remain favorably inclined towards Facebook. Maintaining and enhancing our brand will depend largely on our ability to continue to provide useful, reliable, trustworthy, and innovative products, which we may not do successfully. We may introduce new products or terms of service that users do not like, which may negatively affect our brand. Additionally, the actions of our Platform developers may affect our brand if users do not have a positive experience using third-party apps and websites integrated with Facebook. We have in the past experienced, and we expect that in the future we will continue to experience, media, legislative, or regulatory scrutiny of our decisions regarding user privacy or other issues, which may adversely affect our reputation and brand. We also may fail to provide adequate customer service, which could erode confidence in our brand. Maintaining and enhancing our brand may require us to make substantial investments and these investments may not be successful. If we fail to successfully promote and maintain the Facebook brand or if we incur excessive expenses in this effort, our business and financial results may be adversely affected. Improper access to or disclosure of our users’ information could harm our reputation and adversely affect our business. Our efforts to protect the information that our users have chosen to share using Facebook may be unsuccessful due to the actions of third parties, software bugs or other technical malfunctions, employee error or malfeasance, or other factors. In addition, third parties may attempt to fraudulently induce employees or users to disclose information in order to gain access to our data or our users’ data. If any of these events occur, our users’ information could be accessed or disclosed improperly. Our Data Use Policy governs the use of information that users have chosen to share using Facebook and how that information may be used by third parties. Some Platform developers may store information provided by our users through apps on the Facebook Platform or websites integrated with Facebook. If these third parties or Platform developers fail to adopt or adhere to adequate data security practices or fail to comply with our terms and policies, or in the event of a breach of their networks, our users’ data may be improperly accessed or disclosed. Any incidents involving unauthorized access to or improper use of the information of our users could damage our reputation and our brand and diminish our competitive position. In addition, the affected users or government authorities could initiate legal or regulatory 16 3/25/24, 1:56 PM Registration Statement on Form S-1 https://www.sec.gov/Archives/edgar/data/1326801/000119312512034517/d287954ds1.htm#toc287954_2 24/198 Table of Contents action against us in connection with such incidents, which could cause us to incur significant expense and liability or result in orders or consent decrees forcing us to modify our business practices. Any of these events could have a material and adverse effect on our business, reputation, or financial results. Unfavorable media coverage could negatively affect our business. We receive a high degree of media coverage around the world. Unfavorable publicity regarding, for example, our privacy practices, product changes, product quality, litigation or regulatory activity, or the actions of our Platform developers or our users, could adversely affect our reputation. Such negative publicity also could have an adverse effect on the size, engagement, and loyalty of our user base and result in decreased revenue, which could adversely affect our business and financial results. Our financial results will fluctuate from quarter to quarter, which makes them difficult to predict. Our quarterly financial results have fluctuated in the past and will fluctuate in the future. Additionally, we have a limited operating history with the current scale of our business, which makes it difficult to forecast our future results. As a result, you should not rely upon our past quarterly financial results as indicators of future performance. You should take into account the risks and uncertainties frequently encountered by companies in rapidly evolving markets. Our financial results in any given quarter can be influenced by numerous factors, many of which we are unable to predict or are outside of our control, including: • our ability to maintain and grow our user base and user engagement; • our ability to attract and retain advertisers in a particular period; • seasonal fluctuations in spending by our advertisers; • the number of ads shown to users; • the pricing of our ads and other products; • our ability to increase payments and other fees revenue; • the diversification and growth of revenue sources beyond current advertising and Payments; • the development and introduction of new products or services by us or our competitors; • increases in marketing, sales, and other operating expenses that we may incur to grow and expand our operations and to remain competitive; • our ability to maintain gross margins and operating margins; • our ability to obtain equipment and components for our data centers and other technical infrastructure in a timely and cost- effective manner; • system failures or breaches of security or privacy; • inaccessibility of Facebook due to third-party actions; • share-based compensation expense including approximately $ million that we will incur in the quarter of the completion of our initial public offering in connection with the vesting of restricted stock units (RSUs) granted prior to 2011; • adverse litigation judgments, settlements, or other litigation-related costs; • changes in the legislative or regulatory environment, including with respect to privacy, or enforcement by government regulators, including fines, orders, or consent decrees; • fluctuations in currency exchange rates and changes in the proportion of our revenue and expenses denominated in foreign currencies; 17 3/25/24, 1:56 PM Registration Statement on Form S-1 https://www.sec.gov/Archives/edgar/data/1326801/000119312512034517/d287954ds1.htm#toc287954_2 25/198 Table of Contents • fluctuations in the market values of our portfolio investments and in interest rates; • changes in U.S. generally accepted accounting principles; and • changes in business or macroeconomic conditions. We currently generate significant revenue as a result of our relationship with Zynga, and, if we are unable to successfully maintain this relationship, our financial results could be harmed. In 2011, Zynga accounted for approximately 12% of our revenue, which amount was comprised of revenue derived from payments processing fees related to Zynga’s sales of virtual goods and from direct advertising purchased by Zynga. Additionally, Zynga’s apps generate a significant number of pages on which we display ads from other advertisers. If the use of Zynga games on our Platform declines, if Zynga launches games on or migrates games to competing platforms, or if we fail to maintain good relations with Zynga, we may lose Zynga as a significant Platform developer and our financial results may be adversely affected. We expect our rates of growth will decline in the future. We believe that our rates of user and revenue growth will decline over time. For example, our annual revenue grew 154% from 2009 to 2010 and 88% from 2010 to 2011. Historically, our user growth has been a primary driver of growth in our revenue. Our user growth and revenue growth rates will inevitably slow as we achieve higher market penetration rates, as our revenue increases to higher levels, and as we experience increased competition. As our growth rates decline, investors’ perceptions of our business may be adversely affected and the market price of our Class A common stock could decline. Our business is subject to complex and evolving U.S. and foreign laws and regulations regarding privacy, data protection, and other matters. Many of these laws and regulations are subject to change and uncertain interpretation, and could result in claims, changes to our business practices, increased cost of operations, or declines in user growth or engagement, or otherwise harm our business. We are subject to a variety of laws and regulations in the United States and abroad that involve matters central to our business, including user privacy, rights of publicity, data protection, content, intellectual property, distribution, electronic contracts and other communications, competition, protection of minors, consumer protection, taxation, and online payment services. Foreign data protection, privacy, and other laws and regulations are often more restrictive than those in the United States. These U.S. federal and state and foreign laws and regulations are constantly evolving and can be subject to significant change. In addition, the application and interpretation of these laws and regulations are often uncertain, particularly in the new and rapidly evolving industry in which we operate. For example, the interpretation of some laws and regulations that govern the use of names and likenesses in connection with advertising and marketing activities is unsettled and developments in this area could affect the manner in which we design our products, as well as our terms of use. A number of proposals are pending before federal, state, and foreign legislative and regulatory bodies that could significantly affect our business. For example, a revision to the 1995 European Union Data Protection Directive is currently being considered by European legislative bodies that may include more stringent operational requirements for data processors and significant penalties for non- compliance. Similarly, there have been a number of recent legislative proposals in the United States, at both the federal and state level, that would impose new obligations in areas such as privacy and liability for copyright infringement by third parties. These existing and proposed laws and regulations can be costly to comply with and can delay or impede the development of new products, result in negative publicity, increase our operating costs, require significant management time and attention, and subject us to claims or other remedies, including fines or demands that we modify or cease existing business practices. 18 3/25/24, 1:56 PM Registration Statement on Form S-1 https://www.sec.gov/Archives/edgar/data/1326801/000119312512034517/d287954ds1.htm#toc287954_2 26/198 Table of Contents We have been subject to regulatory investigations and settlements and we expect to continue to be subject to such proceedings in the future, which could cause us to incur substantial costs or require us to change our business practices in a manner materially adverse to our business. From time to time, we receive inquiries from regulators regarding our compliance with laws and other matters. For example, in 2011, we reached agreement with the Federal Trade Commission (FTC) to resolve an investigation into various practices by entering into a 20- year settlement agreement that, among other things, requires us to establish and refine certain practices with respect to treatment of user data and privacy settings and also requires that we complete bi-annual independent privacy audits. As another example, in 2011 the Irish Data Protection Commissioner (DPC) conducted an audit of the data, security, and privacy practices and policies of Facebook Ireland, which is the data controller for Facebook users outside the United States and Canada, and released a report of its conclusions in December 2011. The FTC and DPC have investigated and audited aspects of our products and practices, and we expect to continue to be the subject of regulatory investigations and audits in the future by these and other regulators throughout the world. It is possible that a regulatory inquiry might result in changes to our policies or practices. Violation of existing or future regulatory orders or consent decrees could subject us to substantial monetary fines and other penalties that could negatively affect our financial condition and results of operations. In addition, it is possible that future orders issued by, or enforcement actions initiated by, regulatory authorities could cause us to incur substantial costs or require us to change our business practices in a manner materially adverse to our business. If we are unable to protect our intellectual property, the value of our brand and other intangible assets may be diminished, and our business may be adversely affected. We rely and expect to continue to rely on a combination of confidentiality and license agreements with our employees, consultants, and third parties with whom we have relationships, as well as trademark, copyright, patent, trade secret, and domain name protection laws, to protect our proprietary rights. In the United States and internationally, we have filed various applications for protection of certain aspects of our intellectual property, and we currently hold a number of issued patents in multiple jurisdictions. However, third parties may knowingly or unknowingly infringe our proprietary rights, third parties may challenge proprietary rights held by us, and pending and future trademark and patent applications may not be approved. In addition, effective intellectual property protection may not be available in every country in which we operate or intend to operate our business. In any or all of these cases, we may be required to expend significant time and expense in order to prevent infringement or to enforce our rights. Although we have taken measures to protect our proprietary rights, there can be no assurance that others will not offer products or concepts that are substantially similar to ours and compete with our business. In addition, we regularly contribute software source code under open source licenses and have made other technology we developed available under other open licenses, and we include open source software in our products. For example, we have contributed certain specifications and designs related to our data center equipment to the Open Compute Project Foundation, a non-profit entity that shares and develops such information with the technology community, under the Open Web Foundation License. As a result of our open source contributions and the use of open source in our products, we may license or be required to license innovations that turn out to be material to our business and may also be exposed to increased litigation risk. If the protection of our proprietary rights is inadequate to prevent unauthorized use or appropriation by third parties, the value of our brand and other intangible assets may be diminished and competitors may be able to more effectively mimic our service and methods of operations. Any of these events could have an adverse effect on our business and financial results. We are currently, and expect to be in the future, party to patent lawsuits and other intellectual property rights claims that are expensive and time consuming, and, if resolved adversely, could have a significant impact on our business, financial condition, or results of operations. Companies in the Internet, technology, and media industries own large numbers of patents, copyrights, trademarks, and trade secrets, and frequently enter into litigation based on allegations of infringement, 19 3/25/24, 1:56 PM Registration Statement on Form S-1 https://www.sec.gov/Archives/edgar/data/1326801/000119312512034517/d287954ds1.htm#toc287954_2 27/198 Table of Contents misappropriation, or other violations of intellectual property or other rights. In addition, various “non-practicing entities” that own patents and other intellectual property rights often attempt to aggressively assert their rights in order to extract value from technology companies. We presently are involved in many such lawsuits, and as we face increasing competition and gain an increasingly high profile, including in connection with our initial public offering, we expect the number of patent and other intellectual property claims against us to grow. In addition, from time to time we may introduce new products, including in areas where we currently do not compete, which could increase our exposure to patent and other intellectual property claims from competitors and non-practicing entities. Although the results of litigation and claims cannot be predicted with certainty, we do not believe that the final outcome of intellectual property claims that we currently face will have a material adverse effect on our business, financial condition, or results of operations. However, defending patent and other intellectual property claims is costly and can impose a significant burden on management and employees, we may receive unfavorable preliminary or interim rulings in the course of litigation, and there can be no assurances that favorable final outcomes will be obtained in all cases. We may decide to settle such lawsuits and disputes on terms that are unfavorable to us. Similarly, if any litigation to which we are a party is resolved adversely, we may be subject to an unfavorable judgment that may not be reversed upon appeal. The terms of such a settlement or judgment may require us to cease some or all of our operations or pay substantial amounts to the other party. In addition, we may have to seek a license to continue practices found to be in violation of a third party’s rights, which may not be available on reasonable terms, or at all, and may significantly increase our operating costs and expenses. As a result, we may also be required to develop alternative non-infringing technology or practices or discontinue the practices. The development of alternative non-infringing technology or practices could require significant effort and expense or may not be feasible. Our business, financial condition, or results of operations could be adversely affected as a result. We are involved in numerous class action lawsuits and other litigation matters that are expensive and time consuming, and, if resolved adversely, could harm our business, financial condition, or results of operations. In addition to intellectual property claims, we are also involved in numerous other lawsuits, including putative class action lawsuits brought by users and advertisers, many of which claim statutory damages, and we anticipate that we will continue to be a target for numerous lawsuits in the future. Because we have hundreds of millions of users, the plaintiffs in class action cases filed against us typically claim enormous monetary damages even if the alleged per-user harm is small or non-existent. Any litigation to which we are a party may result in an onerous or unfavorable judgment that may not be reversed upon appeal, or we may decide to settle lawsuits on similarly unfavorable terms. Any such negative outcome could result in payments of substantial monetary damages or fines, or changes to our products or business practices, and accordingly our business, financial condition, or results of operations could be materially and adversely affected. Although the results of lawsuits and claims cannot be predicted with certainty, we do not believe that the final outcome of those matters that we currently face will have a material adverse effect on our business, financial condition, or results of operations. However, defending these claims is costly and can impose a significant burden on management and employees, and we may receive unfavorable preliminary or interim rulings in the course of litigation, which could adversely affect the market price of our Class A common stock. There can be no assurances that a favorable final outcome will be obtained in all cases. Our CEO has control over key decision making as a result of his control of a majority of our voting stock. As a result of voting agreements with certain stockholders, together with the shares he holds, Mark Zuckerberg, our founder, Chairman, and CEO, will be able to exercise voting rights with respect to an aggregate of shares of common stock, representing a majority of the voting power of our outstanding capital stock following our initial public offering. As a result, Mr. Zuckerberg has the ability to control the outcome of matters submitted to our stockholders for approval, including the election of directors and any merger, consolidation, or sale of all or substantially all of our assets. In addition, Mr. Zuckerberg has the ability to control the management and affairs of our company as a result of his position as our CEO and his ability to control the election of our directors. Additionally, in the event that Mr. Zuckerberg controls our company at the time of his death, control 20 3/25/24, 1:56 PM Registration Statement on Form S-1 https://www.sec.gov/Archives/edgar/data/1326801/000119312512034517/d287954ds1.htm#toc287954_2 28/198 Table of Contents may be transferred to a person or entity that he designates as his successor. As a board member and officer, Mr. Zuckerberg owes a fiduciary duty to our stockholders and must act in good faith in a manner he reasonably believes to be in the best interests of our stockholders. As a stockholder, even a controlling stockholder, Mr. Zuckerberg is entitled to vote his shares, and shares over which he has voting control as a result of voting agreements, in his own interests, which may not always be in the interests of our stockholders generally. For a description of these voting agreements, see “Description of Capital Stock—Voting Agreements.” We anticipate that we will expend substantial funds in connection with the tax liabilities that arise upon the initial settlement of RSUs following our initial public offering and the manner in which we fund that expenditure may have an adverse effect. We anticipate that we will expend substantial funds to satisfy tax withholding and remittance obligations on a date approximately six months following our initial public offering, when we will settle a portion of our RSUs granted prior to January 1, 2011 (Pre-2011 RSUs). On the settlement date, we plan to withhold and remit income taxes at applicable minimum statutory rates based on the then-current value of the underlying shares. We currently expect that the average of these withholding tax rates will be approximately 45%. If the price of our common stock at the time of settlement were equal to the midpoint of the price range on the cover page of this prospectus, we estimate that this tax obligation would be approximately $ billion in the aggregate. The amount of this obligation could be higher or lower, depending on the price of our shares on the RSU settlement date. To settle these RSUs, assuming a 45% tax withholding rate, we anticipate that we will net settle the awards by delivering approximately shares of Class B common stock to RSU holders and simultaneously withholding approximately shares of Class B common stock. In connection with this net settlement we will withhold and remit the tax liabilities on behalf of the RSU holders in cash to the applicable tax authorities. To fund the withholding and remittance obligation, we expect to sell equity securities near the settlement date in an amount that is substantially equivalent to the number of shares of common stock that we withhold in connection with the initial settlement of the Pre- 2011 RSUs, such that the newly issued shares should not be dilutive. However, in the event that we issue equity securities, we cannot assure you that we will be able to successfully match the proceeds to the amount of this tax liability. In addition, any such equity financing could result in a decline in our stock price. If we elect not to fully fund our withholding and remittance obligations through the issuance of equity or we are unable to complete such an offering due to market conditions or otherwise, we may choose to borrow funds from our credit facility, use a substantial portion of our existing cash, or rely upon a combination of these alternatives. In the event that we elect to satisfy our withholding and remittance obligations in whole or in part by drawing on our credit facility, our interest expense and principal repayment requirements could increase significantly, which could have an adverse effect on our financial results. We cannot be certain that additional financing will be available on reasonable terms when required, or at all. From time to time, we may need additional financing, whether in connection with our RSU tax obligation or otherwise. Our ability to obtain additional financing, if and when required, will depend on investor demand, our operating performance, the condition of the capital markets, and other factors. To the extent we draw on our credit facility to fund the RSU tax obligation, we may need to raise additional funds and we cannot assure you that additional financing will be available to us on favorable terms when required, or at all. If we raise additional funds through the issuance of equity, equity-linked or debt securities, those securities may have rights, preferences, or privileges senior to the rights of our Class A common stock, and our existing stockholders may experience dilution. Our costs may grow more quickly than our revenue, harming our business and profitability. Providing our products to our users is costly and we expect our expenses to continue to increase in the future as we broaden our user base, as users increase the number of connections and amount of data they share with us, as we develop and implement new product features that require more computing infrastructure, and as we hire 21 3/25/24, 1:56 PM Registration Statement on Form S-1 https://www.sec.gov/Archives/edgar/data/1326801/000119312512034517/d287954ds1.htm#toc287954_2 29/198 Table of Contents additional employees. Historically, our costs have increased each year due to these factors and we expect to continue to incur increasing costs, in particular for servers, storage, power, and data centers, to support our anticipated future growth. We expect to continue to invest in our global infrastructure in order to provide our products rapidly and reliably to all users around the world, including in countries where we do not expect significant short-term monetization. Our expenses may be greater than we anticipate, and our investments to make our business and our technical infrastructure more efficient may not be successful. In addition, we may increase marketing, sales, and other operating expenses in order to grow and expand our operations and to remain competitive. Increases in our costs may adversely affect our business and profitability. Our business is dependent on our ability to maintain and scale our technical infrastructure, and any significant disruption in our service could damage our reputation, result in a potential loss of users and engagement, and adversely affect our financial results. Our reputation and ability to attract, retain, and serve our users is dependent upon the reliable performance of Facebook and our underlying technical infrastructure. Our systems may not be adequately designed with the necessary reliability and redundancy to avoid performance delays or outages that could be harmful to our business. If Facebook is unavailable when users attempt to access it, or if it does not load as quickly as they expect, users may not return to our website as often in the future, or at all. As our user base and the amount and types of information shared on Facebook continue to grow, we will need an increasing amount of technical infrastructure, including network capacity, and computing power, to continue to satisfy the needs of our users. It is possible that we may fail to effectively scale and grow our technical infrastructure to accommodate these increased demands. In addition, our business is subject to interruptions, delays, or failures resulting from earthquakes, other natural disasters, terrorism, or other catastrophic events. A substantial portion of our network infrastructure is provided by third parties. Any disruption or failure in the services we receive from these providers could harm our ability to handle existing or increased traffic and could significantly harm our business. Any financial or other difficulties these providers face may adversely affect our business, and we exercise little control over these providers, which increases our vulnerability to problems with the services they provide. We recently began to own and build key portions of our technical infrastructure, and, because of our limited experience in this area, we could experience unforeseen difficulties. In 2011, we began serving our products from data centers owned by Facebook using servers specifically designed for us. We plan to continue to significantly expand the size of our infrastructure, primarily through data centers that we design and own. The infrastructure expansion we are undertaking is complex, and unanticipated delays in the completion of these projects or availability of components may lead to increased project costs, operational inefficiencies, or interruptions in the delivery or degradation of the quality of our products. In addition, there may be issues related to this infrastructure that are not identified during the testing phases of design and implementation, which may only become evident after we have started to fully utilize the underlying equipment, that could further degrade the user experience or increase our costs. Our software is highly technical, and if it contains undetected errors, our business could be adversely affected. Our products incorporate software that is highly technical and complex. Our software has contained, and may now or in the future contain, undetected errors, bugs, or vulnerabilities. Some errors in our software code may only be discovered after the code has been released. Any errors, bugs, or vulnerabilities discovered in our code after release could result in damage to our reputation, loss of users, loss of revenue, or liability for damages, any of which could adversely affect our business and financial results. 22 3/25/24, 1:56 PM Registration Statement on Form S-1 https://www.sec.gov/Archives/edgar/data/1326801/000119312512034517/d287954ds1.htm#toc287954_2 30/198 Table of Contents We cannot assure you that we will effectively manage our growth. Our employee headcount and the scope and complexity of our business have increased significantly, with the number of full-time employees increasing from 2,127 as of December 31, 2010, to 3,200 as of December 31, 2011, and we expect headcount growth to continue for the foreseeable future. The growth and expansion of our business and products create significant challenges for our management, operational, and financial resources, including managing multiple relations with users, advertisers, Platform developers, and other third parties. In the event of continued growth of our operations or in the number of our third-party relationships, our information technology systems or our internal controls and procedures may not be adequate to support our operations. In addition, some members of our management do not have significant experience managing a large global business operation, so our management may not be able to manage such growth effectively. To effectively manage our growth, we must continue to improve our operational, financial, and management processes and systems and to effectively expand, train, and manage our employee base. As our organization continues to grow, and we are required to implement more complex organizational management structures, we may find it increasingly difficult to maintain the benefits of our corporate culture, including our ability to quickly develop and launch new and innovative products. This could negatively affect our business performance. The loss of one or more of our key personnel, or our failure to attract and retain other highly qualified personnel in the future, could harm our business. We currently depend on the continued services and performance of our key personnel, including Mark Zuckerberg and Sheryl K. Sandberg. In addition, many of our key technologies and systems are custom-made for our business by our personnel. The loss of key personnel, including members of management as well as key engineering, product development, marketing, and sales personnel, could disrupt our operations and have an adverse effect on our business. As we continue to grow, we cannot guarantee we will continue to attract the personnel we need to maintain our competitive position. In particular, we intend to hire a significant number of engineering and sales personnel in 2012, and we expect to face significant competition from other companies in hiring such personnel, particularly in the San Francisco Bay Area. As we mature, the incentives to attract, retain, and motivate employees provided by our equity awards or by future arrangements, such as through cash bonuses, may not be as effective as in the past. Additionally, we have a number of current employees whose equity ownership in our company gives them a substantial amount of personal wealth. Likewise, we have a number of current employees whose equity awards are fully vested and shortly after the completion of our initial public offering will be entitled to receive substantial amounts of our capital stock. As a result, it may be difficult for us to continue to retain and motivate these employees, and this wealth could affect their decisions about whether or not they continue to work for us. If we do not succeed in attracting, hiring, and integrating excellent personnel, or retaining and motivating existing personnel, we may be unable to grow effectively. We may incur liability as a result of information retrieved from or transmitted over the Internet or posted to Facebook and claims related to our products. We have faced, currently face, and will continue to face claims relating to information that is published or made available on Facebook. In particular, the nature of our business exposes us to claims related to defamation, intellectual property rights, rights of publicity and privacy, and personal injury torts. This risk is enhanced in certain jurisdictions outside the United States where our protection from liability for third-party actions may be unclear and where we may be less protected under local laws than we are in the United States. We could incur significant costs investigating and defending such claims and, if we are found liable, significant damages. If any of these events occur, our business and financial results could be adversely affected. 23 3/25/24, 1:56 PM Registration Statement on Form S-1 https://www.sec.gov/Archives/edgar/data/1326801/000119312512034517/d287954ds1.htm#toc287954_2 31/198 Table of Contents Computer malware, viruses, hacking and phishing attacks, and spamming could harm our business and results of operations. Computer malware, viruses, and computer hacking and phishing attacks have become more prevalent in our industry, have occurred on our systems in the past, and may occur on our systems in the future. Because of our prominence, we believe that we are a particularly attractive target for such attacks. Though it is difficult to determine what, if any, harm may directly result from any specific interruption or attack, any failure to maintain performance, reliability, security, and availability of our products and technical infrastructure to the satisfaction of our users may harm our reputation and our ability to retain existing users and attract new users. In addition, spammers attempt to use our products to send targeted and untargeted spam messages to users, which may embarrass or annoy users and make Facebook less user-friendly. We cannot be certain that the technologies and employees that we have to attempt to defeat spamming attacks will be able to eliminate all spam messages from being sent on our platform. As a result of spamming activities, our users may use Facebook less or stop using our products altogether. Payment transactions on the Facebook Platform may subject us to additional regulatory requirements and other risks that could be costly and difficult to comply with or that could harm our business. Our users can use the Facebook Platform to purchase virtual and digital goods from our Platform developers using our Payments infrastructure. Depending on how our Payments product evolves, we may be subject to a variety of laws and regulations in the United States, Europe, and elsewhere, including those governing money transmission, gift cards and other prepaid access instruments, electronic funds transfers, anti-money laundering, counter-terrorist financing, gambling, banking and lending, and import and export restrictions. In some jurisdictions, the application or interpretation of these laws and regulations is not clear. To increase flexibility in how our use of Payments may evolve and to mitigate regulatory uncertainty, we have applied for certain money transmitter licenses and expect to apply for additional money transmitter licenses in the United States, which will generally require us to demonstrate compliance with many domestic laws in these areas. Our efforts to comply with these laws and regulations could be costly and result in diversion of management time and effort and may still not guarantee compliance. In the event that we are found to be in violation of any such legal or regulatory requirements, we may be subject to monetary fines or other penalties such as a cease and desist order, or we may be required to make product changes, any of which could have an adverse effect on our business and financial results. In addition, we may be subject to a variety of additional risks as a result of Payments on the Facebook Platform, including: • increased costs and diversion of management time and effort and other resources to deal with bad transactions or customer disputes; • potential fraudulent or otherwise illegal activity by users, developers, employees, or third parties; • restrictions on the investment of consumer funds used to transact Payments; and • additional disclosure and reporting requirements. 24 3/25/24, 1:56 PM Registration Statement on Form S-1 https://www.sec.gov/Archives/edgar/data/1326801/000119312512034517/d287954ds1.htm#toc287954_2 32/198 Table of Contents We plan to continue expanding our operations abroad where we have limited operating experience and may be subject to increased business and economic risks that could affect our financial results. We plan to continue the international expansion of our business operations and the translation of our products. We currently make Facebook available in more than 70 different languages, and we have offices or data centers in more than 20 different countries. We may enter new international markets where we have limited or no experience in marketing, selling, and deploying our products. For example, we continue to evaluate entering China. However, this market has substantial legal and regulatory complexities that have prevented our entry into China to date. If we fail to deploy or manage our operations in international markets successfully, our business may suffer. In addition, we are subject to a variety of risks inherent in doing business internationally, including: • political, social, or economic instability; • risks related to the legal and regulatory environment in foreign jurisdictions, including with respect to privacy, and unexpected changes in laws, regulatory requirements, and enforcement; • potential damage to our brand and reputation due to compliance with local laws, including potential censorship or requirements to provide user information to local authorities; • fluctuations in currency exchange rates; • higher levels of credit risk and payment fraud; • enhanced difficulties of integrating any foreign acquisitions; • burdens of complying with a variety of foreign laws; • reduced protection for intellectual property rights in some countries; • difficulties in staffing and managing global operations and the increased travel, infrastructure, and legal compliance costs associated with multiple international locations; • compliance with the U.S. Foreign Corrupt Practices Act, the U.K. Bribery Act, and similar laws in other jurisdictions; and • compliance with statutory equity requirements and management of tax consequences. If we are unable to expand internationally and manage the complexity of our global operations successfully, our financial results could be adversely affected. We plan to continue to make acquisitions, which could require significant management attention, disrupt our business, result in dilution to our stockholders, and adversely affect our financial results. As part of our business strategy, we have made and intend to make acquisitions to add specialized employees, complementary companies, products, or technologies. However, we have not made any large acquisitions to date, and, as a result, our ability to acquire and integrate larger or more significant companies, products, or technologies in a successful manner is unproven. In the future, we may not be able to find other suitable acquisition candidates, and we may not be able to complete acquisitions on favorable terms, if at all. Our previous and future acquisitions may not achieve our goals, and any future acquisitions we complete could be viewed negatively by users, developers, advertisers, or investors. In addition, if we fail to successfully integrate any acquisitions, or the technologies associated with such acquisitions, into our company, the revenue and operating results of the combined company could be adversely affected. Any integration process may require significant time and resources, and we may not be able to manage the process successfully. We may not successfully evaluate or utilize the acquired technology or personnel, or accurately forecast the financial impact of an acquisition transaction, including accounting charges. We may have to pay cash, incur debt, or issue equity securities to pay for any such acquisition, any of which could adversely affect our financial results. The sale of equity or issuance of debt to finance any such acquisitions could result in dilution to our stockholders. The 25 3/25/24, 1:56 PM Registration Statement on Form S-1 https://www.sec.gov/Archives/edgar/data/1326801/000119312512034517/d287954ds1.htm#toc287954_2 33/198 Table of Contents incurrence of indebtedness would result in increased fixed obligations and could also include covenants or other restrictions that would impede our ability to manage our operations. If we default on our leasing and credit obligations, our operations may be interrupted and our business and financial results could be adversely affected. We finance a significant portion of our expenditures through leasing arrangements, some of which are not required to be reflected on our balance sheet, and we may enter into additional similar arrangements in the future. In particular, we have used these types of arrangements to finance some of our equipment and data centers. In addition, we have a revolving credit facility that we may draw upon to finance our operations or other corporate purposes, such as funding our tax withholding and remittance obligations in connection with the settlement of RSUs. If we default on these leasing and credit obligations, our leasing partners and lenders may, among other things: • require repayment of any outstanding lease obligations or amounts drawn on our credit facility; • terminate our leasing arrangements and credit facility; • terminate our access to the leased data centers we utilize; • stop delivery of ordered equipment; • sell or require us to return our leased equipment; or • require us to pay significant damages. If some or all of these events were to occur, our operations may be interrupted and our ability to fund our operations or obligations, as well as our business, financial results, and financial condition, could be adversely affected. We may have exposure to greater than anticipated tax liabilities. Our income tax obligations are based on our corporate operating structure and intercompany arrangements, including the manner in which we develop, value, and use our intellectual property and the valuations of our intercompany transactions. The tax laws applicable to our international business activities, including the laws of the United States and other jurisdictions, are subject to interpretation. The taxing authorities of the jurisdictions in which we operate may challenge our methodologies for valuing developed technology or intercompany arrangements, which could increase our worldwide effective tax rate and harm our financial position and results of operations. In addition, our future income taxes could be adversely affected by earnings being lower than anticipated in jurisdictions that have lower statutory tax rates and higher than anticipated in jurisdictions that have higher statutory tax rates, by changes in the valuation of our deferred tax assets and liabilities, or by changes in tax laws, regulations, or accounting principles. We are subject to regular review and audit by both U.S. federal and state and foreign tax authorities. Any adverse outcome of such a review or audit could have a negative effect on our financial position and results of operations. In addition, the determination of our worldwide provision for income taxes and other tax liabilities requires significant judgment by management, and there are many transactions where the ultimate tax determination is uncertain. Although we believe that our estimates are reasonable, the ultimate tax outcome may differ from the amounts recorded in our financial statements and may materially affect our financial results in the period or periods for which such determination is made. The enactment of legislation implementing changes in the U.S. taxation of international business activities or the adoption of other tax reform policies could materially affect our financial position and results of operations. The current administration has made public statements indicating that it has made international tax reform a priority, and key members of the U.S. Congress have conducted hearings and proposed a wide variety of 26 3/25/24, 1:56 PM Registration Statement on Form S-1 https://www.sec.gov/Archives/edgar/data/1326801/000119312512034517/d287954ds1.htm#toc287954_2 34/198 Table of Contents potential changes. Certain changes to U.S. tax laws, including limitations on the ability to defer U.S. taxation on earnings outside of the United States until those earnings are repatriated to the United States, could affect the tax treatment of our foreign earnings, as well as cash and cash equivalent balances we currently maintain outside of the United States. Due to the large and expanding scale of our international business activities, any changes in the U.S. taxation of such activities may increase our worldwide effective tax rate and harm our financial position and results of operations. Risks Related to Our Initial Public Offering and Ownership of Our Class A Common Stock The market price of our Class A common stock may be volatile or may decline regardless of our operating performance, and you may not be able to resell your shares at or above the initial public offering price. The initial public offering price for our Class A common stock will be determined through negotiations between the underwriters and us and may vary from the market price of our Class A common stock following our initial public offering. If you purchase shares of our Class A common stock in our initial public offering, you may not be able to resell those shares at or above the initial public offering price. We cannot assure you that the initial public offering price of our Class A common stock, or the market price following our initial public offering, will equal or exceed prices in privately negotiated transactions of our shares that have occurred from time to time prior to our initial public offering. The market price of our Class A common stock may fluctuate significantly in response to numerous factors, many of which are beyond our control, including: • actual or anticipated fluctuations in our revenue and other operating results; • the financial projections we may provide to the public, any changes in these projections or our failure to meet these projections; • actions of securities analysts who initiate or maintain coverage of us, changes in financial estimates by any securities analysts who follow our company, or our failure to meet these estimates or the expectations of investors; • additional shares of our common stock being sold into the market by us or our existing stockholders or the anticipation of such sales, including if we issue shares to satisfy RSU-related tax obligations or if existing stockholders sell shares into the market when applicable “lock-up” periods end; • announcements by us or our competitors of significant products or features, technical innovations, acquisitions, strategic partnerships, joint ventures, or capital commitments; • announcements by us or estimates by third parties of actual or anticipated changes in the size of our user base or the level of user engagement; • changes in operating performance and stock market valuations of technology companies in our industry, including our Platform developers and competitors; • price and volume fluctuations in the overall stock market, including as a result of trends in the economy as a whole; • lawsuits threatened or filed against us; • developments in new legislation and pending lawsuits or regulatory actions, including interim or final rulings by judicial or regulatory bodies; and • other events or factors, including those resulting from war or incidents of terrorism, or responses to these events. In addition, the stock markets have experienced extreme price and volume fluctuations that have affected and continue to affect the market prices of equity securities of many technology companies. Stock prices of many 27 3/25/24, 1:56 PM Registration Statement on Form S-1 https://www.sec.gov/Archives/edgar/data/1326801/000119312512034517/d287954ds1.htm#toc287954_2 35/198 Table of Contents technology companies have fluctuated in a manner unrelated or disproportionate to the operating performance of those companies. In the past, stockholders have filed securities class action litigation following periods of market volatility. If we were to become involved in securities litigation, it could subject us to substantial costs, divert resources and the attention of management from our business, and adversely affect our business. Substantial blocks of our total outstanding shares may be sold into the market when “lock-up” or “market standoff” periods end. If there are substantial sales of shares of our common stock, the price of our Class A common stock could decline. The price of our Class A common stock could decline if there are substantial sales of our common stock, particularly sales by our directors, executive officers, employees, and significant stockholders, or when there is a large number of shares of our common stock available for sale. After our initial public offering, we will have outstanding shares of our Class A common stock and shares of our Class B common stock, based on the number of shares outstanding as of December 31, 2011. This includes shares that we and the selling stockholders are selling in our initial public offering, which shares may be resold in the public market immediately following our initial public offering, and assumes no additional exercises of outstanding options (other than the exercise of the option held by Mr. Zuckerberg described elsewhere in this prospectus). In addition, we expect to issue shares of our Class B common stock upon the net settlement of RSUs approximately six months following our initial public offering. Shares of our Class B common stock are convertible into an equivalent number of shares of our Class A common stock and generally convert into shares of our Class A common stock upon transfer. The shares of our Class A common stock and shares of our Class B common stock that are not offered and sold in our initial public offering as well as the shares underlying outstanding RSUs will be eligible for sale in the public market in the near future as set forth below. Date Available for Sale into Public Market Number of Shares of Common Stock 91 days after the date of this prospectus shares held by the selling stockholders other than Mr. Zuckerberg Approximately six months after the date of this prospectus approximately shares underlying net- settled RSUs 181 days after the date of this prospectus shares 211 days after the date of this prospectus shares held by the selling stockholders One year after the date of this prospectus shares held by Mail.ru Group Limited and DST Global Limited and their respective affiliates 18 months after the date of this prospectus shares held by Mail.ru Group Limited and DST Global Limited and their respective affiliates Of the 138,539,434 shares of our Class B common stock that were subject to stock options outstanding (and not held by Mr. Zuckerberg) as of December 31, 2011, options to purchase 124,848,924 shares of Class B common stock were vested as of December 31, 2011 and the Class B common stock underlying such options will be eligible for sale approximately six months after the date of this prospectus. We expect an additional shares of Class B common stock to be delivered upon the net settlement of RSUs between the date that is approximately six months after the date of this prospectus and December 31, 2012, which shares would be eligible for sale in the public market immediately following settlement. After our initial public offering, certain holders of our Class A common stock and Class B common stock will have rights, subject to some conditions, to require us to file registration statements covering their shares or to include their shares in registration statements that we may file for ourselves or our stockholders. All of these shares are subject to market standoff or lock-up agreements restricting their sale for specified periods of time after the date of this prospectus. We also intend to register shares of common stock that we have issued and may 28 3/25/24, 1:56 PM Registration Statement on Form S-1 https://www.sec.gov/Archives/edgar/data/1326801/000119312512034517/d287954ds1.htm#toc287954_2 36/198 Table of Contents issue under our employee equity incentive plans. Once we register these shares, they will be able to be sold freely in the public market upon issuance, subject to existing market standoff or lock-up agreements. Morgan Stanley & Co. LLC may, in its sole discretion, permit our executive officers, our directors, and the selling stockholders to sell shares prior to the expiration of the restrictive provisions contained in the “lock-up” agreements with the underwriters. In addition, we may, in our sole discretion, permit our employees and current stockholders who are subject to market standoff agreements or arrangements with us and who are not subject to a lock-up agreement with the underwriters to sell shares prior to the expiration of the restrictive provisions contained in those market standoff agreements or arrangements. The market price of the shares of our Class A common stock could decline as a result of the sale of a substantial number of our shares of common stock in the public market or the perception in the market that the holders of a large number of shares intend to sell their shares. In making your investment decision, you should not rely on information in public media that is published by third parties. You should rely only on statements made in this prospectus in determining whether to purchase our shares. You should carefully evaluate all of the information in this prospectus. We have in the past received, and may continue to receive, a high degree of media coverage, including coverage that is not directly attributable to statements made by our officers and employees, that incorrectly reports on statements made by our officers or employees, or that is misleading as a result of omitting information provided by us, our officers, or employees. You should rely only on the information contained in this prospectus in determining whether to purchase our shares of Class A common stock. We have broad discretion in the use of the net proceeds from our initial public offering and may not use them effectively. We cannot specify with any certainty the particular uses of the net proceeds that we will receive from our initial public offering. Our management will have broad discretion in the application of the net proceeds, including working capital, possible acquisitions, and other general corporate purposes, and we may spend or invest these proceeds in a way with which our stockholders disagree. The failure by our management to apply these funds effectively could harm our business and financial condition. Pending their use, we may invest the net proceeds from our initial public offering in a manner that does not produce income or that loses value. If securities or industry analysts publish inaccurate or unfavorable research about our business, our stock price could decline. The trading market for our Class A common stock will depend in part on the research and reports that securities or industry analysts publish about us or our business. If one or more of the analysts who cover us downgrade our Class A common stock or publish inaccurate or unfavorable research about our business, our Class A common stock price would likely decline. We do not intend to pay dividends for the foreseeable future. We have never declared or paid cash dividends on our capital stock. We currently intend to retain any future earnings to finance the operation and expansion of our business, and we do not expect to declare or pay any dividends in the foreseeable future. As a result, you may only receive a return on your investment in our Class A common stock if the market price of our Class A common stock increases. In addition, our credit facility contains restrictions on our ability to pay dividends. 29 3/25/24, 1:56 PM Registration Statement on Form S-1 https://www.sec.gov/Archives/edgar/data/1326801/000119312512034517/d287954ds1.htm#toc287954_2 37/198 Table of Contents If we are unable to implement and maintain effective internal control over financial reporting in the future, investors may lose confidence in the accuracy and completeness of our financial reports and the market price of our Class A common stock may be negatively affected. As a public company, we will be required to maintain internal controls over financial reporting and to report any material weaknesses in such internal controls. In addition, beginning with our 2013 Annual Report on Form 10-K to be filed in 2014, we will be required to furnish a report by management on the effectiveness of our internal control over financial reporting pursuant to Section 404 of the Sarbanes-Oxley Act. We are in the process of designing, implementing, and testing the internal control over financial reporting required to comply with this obligation, which process is time consuming, costly, and complicated. If we identify material weaknesses in our internal control over financial reporting, if we are unable to comply with the requirements of Section 404 in a timely manner or assert that our internal control over financial reporting is effective, or if our independent registered public accounting firm is unable to express an opinion as to the effectiveness of our internal control over financial reporting, investors may lose confidence in the accuracy and completeness of our financial reports and the market price of our Class A common stock could be negatively affected, and we could become subject to investigations by the stock exchange on which our securities are listed, the Securities and Exchange Commission, or other regulatory authorities, which could require additional financial and management resources. The requirements of being a public company may strain our resources and divert management’s attention. As a public company, we will be subject to the reporting requirements of the Securities Exchange Act of 1934, as amended (Exchange Act), the Sarbanes-Oxley Act, the Dodd-Frank Act, the listing requirements of the , and other applicable securities rules and regulations. Compliance with these rules and regulations will increase our legal and financial compliance costs, make some activities more difficult, time-consuming, or costly, and increase demand on our systems and resources. The Exchange Act requires, among other things, that we file annual, quarterly, and current reports with respect to our business and operating results. As a result of disclosure of information in this prospectus and in filings required of a public company, our business and financial condition will become more visible, which we believe may result in threatened or actual litigation, including by competitors and other third parties. If such claims are successful, our business and operating results could be harmed, and even if the claims do not result in litigation or are resolved in our favor, these claims, and the time and resources necessary to resolve them, could divert the resources of our management and harm our business and operating results. If you purchase shares of our Class A common stock in our initial public offering, you will experience substantial and immediate dilution. If you purchase shares of our Class A common stock in our initial public offering, you will experience substantial and immediate dilution in the pro forma net tangible book value per share of $ per share as of December 31, 2011, based on an assumed initial public offering price of our Class A common stock of $ per share, the midpoint of the price range on the cover page of this prospectus, because the price that you pay will be substantially greater than the pro forma net tangible book value per share of the Class A common stock that you acquire. This dilution is due in large part to the fact that our earlier investors paid substantially less than the initial public offering price when they purchased their shares of our capital stock. You will experience additional dilution upon exercise of options to purchase common stock under our equity incentive plans, upon vesting of RSUs, if we issue restricted stock to our employees under our equity incentive plans, or if we otherwise issue additional shares of our common stock. For more information, see “Dilution.” 30 3/25/24, 1:56 PM Registration Statement on Form S-1 https://www.sec.gov/Archives/edgar/data/1326801/000119312512034517/d287954ds1.htm#toc287954_2 38/198 Table of Contents The dual class structure of our common stock and the voting agreements among certain stockholders have the effect of concentrating voting control with our CEO, and also with employees and directors and their affiliates. Our Class B common stock has ten votes per share, and our Class A common stock, which is the stock we are offering in our initial public offering, has one vote per share. Stockholders who hold shares of Class B common stock, including our executive officers, employees, and directors and their affiliates, will together hold approximately % of the voting power of our outstanding capital stock following our initial public offering. Because of the ten-to-one voting ratio between our Class B and Class A common stock, the holders of our Class B common stock collectively will continue to control a majority of the combined voting power of our common stock and therefore be able to control all matters submitted to our stockholders for approval so long as the shares of Class B common stock represent at least 9.1% of all outstanding shares of our Class A and Class B common stock. This concentrated control will limit your ability to influence corporate matters for the foreseeable future. Future transfers by holders of Class B common stock will generally result in those shares converting to Class A common stock, subject to limited exceptions, such as certain transfers effected for estate planning purposes. The conversion of Class B common stock to Class A common stock will have the effect, over time, of increasing the relative voting power of those holders of Class B common stock who retain their shares in the long term. If, for example, Mr. Zuckerberg retains a significant portion of his holdings of Class B common stock for an extended period of time, he could, in the future, continue to control a majority of the combined voting power of our Class A common stock and Class B common stock. For a description of the dual class structure, see “Description of Capital Stock—Anti-Takeover Provisions.” We have elected to take advantage of the “controlled company” exemption to the corporate governance rules for publicly-listed companies. Because we qualify as a “controlled company” under the corporate governance rules for publicly-listed companies, we are not required to have a majority of our board of directors be independent, nor are we required to have a compensation committee or an independent nominating function. In light of our status as a controlled company, our board of directors has determined not to have an independent nominating function and has chosen to have the full board of directors be directly responsible for nominating members of our board, and in the future we could elect not to have a majority of our board of directors be independent or not to have a compensation committee. Our status as a controlled company could cause our Class A common stock to look less attractive to certain investors or otherwise harm our trading price. Delaware law and provisions in our restated certificate of incorporation and bylaws that will be in effect at the closing of our initial public offering could make a merger, tender offer, or proxy contest difficult, thereby depressing the trading price of our Class A common stock. Following the closing of our initial public offering, our status as a Delaware corporation and the anti-takeover provisions of the Delaware General Corporation Law may discourage, delay, or prevent a change in control by prohibiting us from engaging in a business combination with an interested stockholder for a period of three years after the person becomes an interested stockholder, even if a change of control would be beneficial to our existing stockholders. In addition, our restated certificate of incorporation and bylaws that will be in effect at the closing of our initial public offering will contain provisions that may make the acquisition of our company more difficult, including the following: • any transaction that would result in a change in control of our company will require the approval of a majority of our outstanding Class B common stock voting as a separate class; • we have a dual class common stock structure, which provides Mr. Zuckerberg with the ability to control the outcome of matters requiring stockholder approval, even if he owns significantly less than a majority of the shares of our outstanding Class A and Class B common stock; 31 3/25/24, 1:56 PM Registration Statement on Form S-1 https://www.sec.gov/Archives/edgar/data/1326801/000119312512034517/d287954ds1.htm#toc287954_2 39/198 Table of Contents • when the outstanding shares of our Class B common stock represent less than a majority of the combined voting power of common stock, certain amendments to our restated certificate of incorporation or bylaws will require the approval of two-thirds of the combined vote of our then-outstanding shares of Class A and Class B common stock; • when the outstanding shares of our Class B common stock represent less than a majority of the combined voting power of our common stock, vacancies on our board of directors will be able to be filled only by our board of directors and not by stockholders; • when the outstanding shares of our Class B common stock represent less than a majority of the combined voting power of our common stock, our board of directors will be classified into three classes of directors with staggered three-year terms and directors will only be able to be removed from office for cause; • when the outstanding shares of our Class B common stock represent less than a majority of the combined voting power of our common stock, our stockholders will only be able to take action at a meeting of stockholders and not by written consent; • only our chairman, our chief executive officer, our president, or a majority of our board of directors will be authorized to call a special meeting of stockholders; • advance notice procedures will apply for stockholders to nominate candidates for election as directors or to bring matters before an annual meeting of stockholders; • our restated certificate of incorporation will authorize undesignated preferred stock, the terms of which may be established, and shares of which may be issued, without stockholder approval; and • certain litigation against us can only be brought in Delaware. For information regarding these and other provisions, see “Description of Capital Stock—Anti-Takeover Provisions.” 32 3/25/24, 1:56 PM Registration Statement on Form S-1 https://www.sec.gov/Archives/edgar/data/1326801/000119312512034517/d287954ds1.htm#toc287954_2 40/198 Table of Contents\n"
     ]
    }
   ],
   "source": [
    "from utils import get_section\n",
    "\n",
    "# search for section titles in uppercase format -- PyMuPDF is case sensitive\n",
    "start_str = target_section.upper()\n",
    "end_str = next_section.upper()\n",
    "\n",
    "body = get_section(\n",
    "    start_str=start_str,\n",
    "    end_str=end_str,\n",
    "    words=lowercase_words,\n",
    ")\n",
    "\n",
    "if body:    # only runs if start_str & end_string found\n",
    "    print(f\"Section: {target_section}\")\n",
    "    print(f\"Body: ({len(body.split(' '))} words)\\n{body}\")"
   ]
  },
  {
   "cell_type": "markdown",
   "id": "above-arnold",
   "metadata": {},
   "source": [
    "### Chunk Section Body into Paragraphs and Create Embeddings"
   ]
  },
  {
   "cell_type": "code",
   "execution_count": null,
   "id": "north-batch",
   "metadata": {},
   "outputs": [],
   "source": []
  },
  {
   "cell_type": "code",
   "execution_count": null,
   "id": "rising-healing",
   "metadata": {},
   "outputs": [],
   "source": []
  },
  {
   "cell_type": "code",
   "execution_count": null,
   "id": "medical-bachelor",
   "metadata": {},
   "outputs": [],
   "source": []
  },
  {
   "cell_type": "markdown",
   "id": "experimental-uniform",
   "metadata": {},
   "source": [
    "### Perform RAG using the Sentence Body Embeddings"
   ]
  },
  {
   "cell_type": "code",
   "execution_count": null,
   "id": "fewer-ceremony",
   "metadata": {},
   "outputs": [],
   "source": []
  }
 ],
 "metadata": {
  "kernelspec": {
   "display_name": "rag_dataloaders_new",
   "language": "python",
   "name": "rag_dataloaders_new"
  },
  "language_info": {
   "codemirror_mode": {
    "name": "ipython",
    "version": 3
   },
   "file_extension": ".py",
   "mimetype": "text/x-python",
   "name": "python",
   "nbconvert_exporter": "python",
   "pygments_lexer": "ipython3",
   "version": "3.10.12"
  }
 },
 "nbformat": 4,
 "nbformat_minor": 5
}
